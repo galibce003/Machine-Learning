{
 "cells": [
  {
   "cell_type": "markdown",
   "metadata": {},
   "source": [
    "# Sentiment Analysis (random text)\n",
    "### MD. Mehedi Hassan Galib\n",
    "### 04 August, 2020"
   ]
  },
  {
   "cell_type": "markdown",
   "metadata": {},
   "source": [
    "<br/>\n",
    "<br/>\n",
    "<br/>\n",
    "\n",
    "## Getting Libraries"
   ]
  },
  {
   "cell_type": "code",
   "execution_count": 84,
   "metadata": {},
   "outputs": [],
   "source": [
    "import string\n",
    "from collections import Counter\n",
    "import matplotlib.pyplot as plt\n",
    "%matplotlib inline"
   ]
  },
  {
   "cell_type": "markdown",
   "metadata": {},
   "source": [
    "<br/>\n",
    "<br/>\n",
    "\n",
    "## Loading text data"
   ]
  },
  {
   "cell_type": "code",
   "execution_count": 1,
   "metadata": {},
   "outputs": [
    {
     "name": "stdout",
     "output_type": "stream",
     "text": [
      "“Your time is limited, so don’t waste it living someone else’s life. Don’t be trapped by dogma — which is living with the results of other people’s thinking. Don’t let the noise of others’ opinions drown out your own inner voice. And most important, have the courage to follow your heart and intuition. They somehow already know what you truly want to become.” — Steve Jobs\n",
      "This speech meant a lot to Steve Jobs. On the morning of June 21, 2005, hours before he was scheduled to deliver the commencement speech for the 114th graduating class at Stanford University, “he woke up with butterflies in his stomach”, says his wife Laurene. “I’d almost never seen him this more nervous.” she adds, in Becoming Steve Jobs.\n",
      "The speech was well crafted, emotional, and inspiring. It was short and simple. Yet, fifteen years later, it still deeply resonates with people across the world, whether or not you liked him or his products. The speech had all the elements of a great TED talk, although it wasn’t held at one of the conference rooms, it still garnered millions of views when it was shown on TED.\n",
      "Powerful speeches don’t have to be long to inspire, and Jobs’ speech was only 15 minutes long. Some of the speeches that started movements and changed the course of history have not always been lenghty. John F. Kennedy’s inaugural address that moved a nation was 15 minutes long and Martin Luther King Jr. shared a vision of racial equality on August 28, 1963, in 17 minutes.\n",
      "One thing that stands out with this speech is the theme — Do What You Love. This resonates with almost everyone who seeks meaning in their lives and career. Apart from being a great marketer and salesman, Jobs was also a great storyteller, and he wraps up his address by sharing three stories.\n",
      "“Today I want to tell you three stories from my life. That’s it. No big deal. Just three stories,” Jobs began.\n",
      "Connecting The Dots\n",
      "Job’s first story was about connecting the dots.\n",
      "He talked to the graduates about dropping out of college and “dropping in” on courses he wanted to take, like calligraphy, which, at the time, had nothing to do with what he wanted to do with his life. A decade later, he incorporated what he had learned into the design of the Macintosh. It was the first computer with a beautiful typograhy. In the movie Jobs, Steve was so pedantic about typography that he insisted on it being part of the Macintosh design. When his best engineer on the team thought the idea was silly, he was fired on the spot.\n",
      "Typography made me fall in love with Apple products, fonts are everything. Jobs once said, “the design of the iPhone’s buttons has to be so good that users would want to lick them.” And he was right.\n",
      "In Stoicism, everything is opportunity. Sometimes we look back at missed opportunities with regret, but we have to have faith that the dots will connect in the future somehow. Nothing is ever wasted.\n",
      "Roger Federer is one the greatest tennis players in the world. Many people don’t know that he didn’t really like tennis growing up, in fact, his mom was a tennis coach and didn’t want to coach him since he was bad at it. He went on to win the Spanish inter-league championship as a striker, playing football. He also played basketball, badminton, and cricket. Federer didn’t focus on tennis until the age of 12, seven years before winning his first grand slam title at the 2005 French Open.\n",
      "Unlike Tiger Woods who has been playing golf since he was a baby, Roger tried almost any sport that involved a ball and credits all of those sports for enhancing his coordination. These are dots connecting.\n",
      "Love and Loss\n",
      "Jobs’ second story was about love and loss.\n",
      "He recalled falling in love with computers, meeting Steve Woz, building Apple, and getting fired by the Board of Directors. He also recalled how getting fired was the best thing that happened to him at the time, and the only thing that kept him going was loving what he did.\n",
      "He made a huge impact at Apple that, after an eleven year absence, his philosophy still echoed within its corridors. “You’ve got to find what you love.” he said. And let’s not forget the prolific thoughts of Maya Angelou who said, “… pursue the things you love doing and then do them so well that people can’t take their eyes off you.”\n",
      "In hindsight, loving your work doesn’t guarantee impact or success.\n",
      "A study done by Forbes Insights, found that all cases of work being studied shared a single intention — the work was focused on making a difference that someone else would love, instead of the person performing the work. They were focused on the recipient of their work — their customer, their colleague who depends on them, their leader who trusts in them, the community who expects their support, or others who benefit from their work.\n",
      "This is the philosophy that makes Apple a great company, it is customer focused. As was Steve Jobs.\n",
      "Work is love made visible.\n",
      "Death\n",
      "Jobs’ third and final story was about death.\n",
      "“Remembering that are you going to die is the best way I know to avoid the trap thinking you have something to lose. You are already naked. There is no reason not to follow your heart.”\n",
      "I have been mediating on death a lot lately. Not in a sad and gloomy way, but as a reminder that our time on earth is limited. We don’t know when will our lights go out. More important, how will we be remembered.\n",
      "Death calibrates so many things in life. It reminds us that nothing is permanent, that we spend a great deal of time on things that don’t matter. After Jobs learned of his cancer, everything changed. His focus shifted. The first thing he did after returning to Apple was to kill all unnecessary projects. Those who worked with him recall how he was brutally honest, a jerk sometimes, and how focussed his was.\n",
      "Apple products are not only known for their sleek designs but Jobs had a philosophy, which drives Apple to this day, of simplicity and minimalism. When cellphone makers were battling it out with keyboard, iPhone came out with one button. Minimalism can also be seen in how Jobs communicated on emails. No fluff. Say your piece and keep your peace. Nothing more.\n",
      "Steve Jobs saves his call to attention for the end of the speech: “Stay Hungry. Stay Foolish. I have always wished that for myself. And now, as you graduate to begin anew, I wish that for you. Stay Hungry. Stay Foolish.”\n"
     ]
    }
   ],
   "source": [
    "df = open('C:/Users/Mehedi Hassan Galib/Desktop/Python/datas/text.txt', encoding = 'utf-8').read()\n",
    "print(df)"
   ]
  },
  {
   "cell_type": "markdown",
   "metadata": {},
   "source": [
    "<br/>\n",
    "<br/>\n",
    "\n",
    "## Converting to lower case"
   ]
  },
  {
   "cell_type": "code",
   "execution_count": 87,
   "metadata": {},
   "outputs": [],
   "source": [
    "lower = df.lower()"
   ]
  },
  {
   "cell_type": "markdown",
   "metadata": {},
   "source": [
    "<br/>\n",
    "<br/>\n",
    "\n",
    "## Removing punctuetions"
   ]
  },
  {
   "cell_type": "code",
   "execution_count": 89,
   "metadata": {},
   "outputs": [],
   "source": [
    "cleaned = lower.translate(str.maketrans('', '', string.punctuation))"
   ]
  },
  {
   "cell_type": "markdown",
   "metadata": {},
   "source": [
    "<br/>\n",
    "<br/>\n",
    "\n",
    "## Splitting words from sentances"
   ]
  },
  {
   "cell_type": "code",
   "execution_count": 91,
   "metadata": {},
   "outputs": [],
   "source": [
    "words = cleaned.split()"
   ]
  },
  {
   "cell_type": "code",
   "execution_count": 92,
   "metadata": {
    "collapsed": true
   },
   "outputs": [
    {
     "name": "stdout",
     "output_type": "stream",
     "text": [
      "['“your', 'time', 'is', 'limited', 'so', 'don’t', 'waste', 'it', 'living', 'someone', 'else’s', 'life', 'don’t', 'be', 'trapped', 'by', 'dogma', '—', 'which', 'is', 'living', 'with', 'the', 'results', 'of', 'other', 'people’s', 'thinking', 'don’t', 'let', 'the', 'noise', 'of', 'others’', 'opinions', 'drown', 'out', 'your', 'own', 'inner', 'voice', 'and', 'most', 'important', 'have', 'the', 'courage', 'to', 'follow', 'your', 'heart', 'and', 'intuition', 'they', 'somehow', 'already', 'know', 'what', 'you', 'truly', 'want', 'to', 'become”', '—', 'steve', 'jobs', 'this', 'speech', 'meant', 'a', 'lot', 'to', 'steve', 'jobs', 'on', 'the', 'morning', 'of', 'june', '21', '2005', 'hours', 'before', 'he', 'was', 'scheduled', 'to', 'deliver', 'the', 'commencement', 'speech', 'for', 'the', '114th', 'graduating', 'class', 'at', 'stanford', 'university', '“he', 'woke', 'up', 'with', 'butterflies', 'in', 'his', 'stomach”', 'says', 'his', 'wife', 'laurene', '“i’d', 'almost', 'never', 'seen', 'him', 'this', 'more', 'nervous”', 'she', 'adds', 'in', 'becoming', 'steve', 'jobs', 'the', 'speech', 'was', 'well', 'crafted', 'emotional', 'and', 'inspiring', 'it', 'was', 'short', 'and', 'simple', 'yet', 'fifteen', 'years', 'later', 'it', 'still', 'deeply', 'resonates', 'with', 'people', 'across', 'the', 'world', 'whether', 'or', 'not', 'you', 'liked', 'him', 'or', 'his', 'products', 'the', 'speech', 'had', 'all', 'the', 'elements', 'of', 'a', 'great', 'ted', 'talk', 'although', 'it', 'wasn’t', 'held', 'at', 'one', 'of', 'the', 'conference', 'rooms', 'it', 'still', 'garnered', 'millions', 'of', 'views', 'when', 'it', 'was', 'shown', 'on', 'ted', 'powerful', 'speeches', 'don’t', 'have', 'to', 'be', 'long', 'to', 'inspire', 'and', 'jobs’', 'speech', 'was', 'only', '15', 'minutes', 'long', 'some', 'of', 'the', 'speeches', 'that', 'started', 'movements', 'and', 'changed', 'the', 'course', 'of', 'history', 'have', 'not', 'always', 'been', 'lenghty', 'john', 'f', 'kennedy’s', 'inaugural', 'address', 'that', 'moved', 'a', 'nation', 'was', '15', 'minutes', 'long', 'and', 'martin', 'luther', 'king', 'jr', 'shared', 'a', 'vision', 'of', 'racial', 'equality', 'on', 'august', '28', '1963', 'in', '17', 'minutes', 'one', 'thing', 'that', 'stands', 'out', 'with', 'this', 'speech', 'is', 'the', 'theme', '—', 'do', 'what', 'you', 'love', 'this', 'resonates', 'with', 'almost', 'everyone', 'who', 'seeks', 'meaning', 'in', 'their', 'lives', 'and', 'career', 'apart', 'from', 'being', 'a', 'great', 'marketer', 'and', 'salesman', 'jobs', 'was', 'also', 'a', 'great', 'storyteller', 'and', 'he', 'wraps', 'up', 'his', 'address', 'by', 'sharing', 'three', 'stories', '“today', 'i', 'want', 'to', 'tell', 'you', 'three', 'stories', 'from', 'my', 'life', 'that’s', 'it', 'no', 'big', 'deal', 'just', 'three', 'stories”', 'jobs', 'began', 'connecting', 'the', 'dots', 'job’s', 'first', 'story', 'was', 'about', 'connecting', 'the', 'dots', 'he', 'talked', 'to', 'the', 'graduates', 'about', 'dropping', 'out', 'of', 'college', 'and', '“dropping', 'in”', 'on', 'courses', 'he', 'wanted', 'to', 'take', 'like', 'calligraphy', 'which', 'at', 'the', 'time', 'had', 'nothing', 'to', 'do', 'with', 'what', 'he', 'wanted', 'to', 'do', 'with', 'his', 'life', 'a', 'decade', 'later', 'he', 'incorporated', 'what', 'he', 'had', 'learned', 'into', 'the', 'design', 'of', 'the', 'macintosh', 'it', 'was', 'the', 'first', 'computer', 'with', 'a', 'beautiful', 'typograhy', 'in', 'the', 'movie', 'jobs', 'steve', 'was', 'so', 'pedantic', 'about', 'typography', 'that', 'he', 'insisted', 'on', 'it', 'being', 'part', 'of', 'the', 'macintosh', 'design', 'when', 'his', 'best', 'engineer', 'on', 'the', 'team', 'thought', 'the', 'idea', 'was', 'silly', 'he', 'was', 'fired', 'on', 'the', 'spot', 'typography', 'made', 'me', 'fall', 'in', 'love', 'with', 'apple', 'products', 'fonts', 'are', 'everything', 'jobs', 'once', 'said', '“the', 'design', 'of', 'the', 'iphone’s', 'buttons', 'has', 'to', 'be', 'so', 'good', 'that', 'users', 'would', 'want', 'to', 'lick', 'them”', 'and', 'he', 'was', 'right', 'in', 'stoicism', 'everything', 'is', 'opportunity', 'sometimes', 'we', 'look', 'back', 'at', 'missed', 'opportunities', 'with', 'regret', 'but', 'we', 'have', 'to', 'have', 'faith', 'that', 'the', 'dots', 'will', 'connect', 'in', 'the', 'future', 'somehow', 'nothing', 'is', 'ever', 'wasted', 'roger', 'federer', 'is', 'one', 'the', 'greatest', 'tennis', 'players', 'in', 'the', 'world', 'many', 'people', 'don’t', 'know', 'that', 'he', 'didn’t', 'really', 'like', 'tennis', 'growing', 'up', 'in', 'fact', 'his', 'mom', 'was', 'a', 'tennis', 'coach', 'and', 'didn’t', 'want', 'to', 'coach', 'him', 'since', 'he', 'was', 'bad', 'at', 'it', 'he', 'went', 'on', 'to', 'win', 'the', 'spanish', 'interleague', 'championship', 'as', 'a', 'striker', 'playing', 'football', 'he', 'also', 'played', 'basketball', 'badminton', 'and', 'cricket', 'federer', 'didn’t', 'focus', 'on', 'tennis', 'until', 'the', 'age', 'of', '12', 'seven', 'years', 'before', 'winning', 'his', 'first', 'grand', 'slam', 'title', 'at', 'the', '2005', 'french', 'open', 'unlike', 'tiger', 'woods', 'who', 'has', 'been', 'playing', 'golf', 'since', 'he', 'was', 'a', 'baby', 'roger', 'tried', 'almost', 'any', 'sport', 'that', 'involved', 'a', 'ball', 'and', 'credits', 'all', 'of', 'those', 'sports', 'for', 'enhancing', 'his', 'coordination', 'these', 'are', 'dots', 'connecting', 'love', 'and', 'loss', 'jobs’', 'second', 'story', 'was', 'about', 'love', 'and', 'loss', 'he', 'recalled', 'falling', 'in', 'love', 'with', 'computers', 'meeting', 'steve', 'woz', 'building', 'apple', 'and', 'getting', 'fired', 'by', 'the', 'board', 'of', 'directors', 'he', 'also', 'recalled', 'how', 'getting', 'fired', 'was', 'the', 'best', 'thing', 'that', 'happened', 'to', 'him', 'at', 'the', 'time', 'and', 'the', 'only', 'thing', 'that', 'kept', 'him', 'going', 'was', 'loving', 'what', 'he', 'did', 'he', 'made', 'a', 'huge', 'impact', 'at', 'apple', 'that', 'after', 'an', 'eleven', 'year', 'absence', 'his', 'philosophy', 'still', 'echoed', 'within', 'its', 'corridors', '“you’ve', 'got', 'to', 'find', 'what', 'you', 'love”', 'he', 'said', 'and', 'let’s', 'not', 'forget', 'the', 'prolific', 'thoughts', 'of', 'maya', 'angelou', 'who', 'said', '“…', 'pursue', 'the', 'things', 'you', 'love', 'doing', 'and', 'then', 'do', 'them', 'so', 'well', 'that', 'people', 'can’t', 'take', 'their', 'eyes', 'off', 'you”', 'in', 'hindsight', 'loving', 'your', 'work', 'doesn’t', 'guarantee', 'impact', 'or', 'success', 'a', 'study', 'done', 'by', 'forbes', 'insights', 'found', 'that', 'all', 'cases', 'of', 'work', 'being', 'studied', 'shared', 'a', 'single', 'intention', '—', 'the', 'work', 'was', 'focused', 'on', 'making', 'a', 'difference', 'that', 'someone', 'else', 'would', 'love', 'instead', 'of', 'the', 'person', 'performing', 'the', 'work', 'they', 'were', 'focused', 'on', 'the', 'recipient', 'of', 'their', 'work', '—', 'their', 'customer', 'their', 'colleague', 'who', 'depends', 'on', 'them', 'their', 'leader', 'who', 'trusts', 'in', 'them', 'the', 'community', 'who', 'expects', 'their', 'support', 'or', 'others', 'who', 'benefit', 'from', 'their', 'work', 'this', 'is', 'the', 'philosophy', 'that', 'makes', 'apple', 'a', 'great', 'company', 'it', 'is', 'customer', 'focused', 'as', 'was', 'steve', 'jobs', 'work', 'is', 'love', 'made', 'visible', 'death', 'jobs’', 'third', 'and', 'final', 'story', 'was', 'about', 'death', '“remembering', 'that', 'are', 'you', 'going', 'to', 'die', 'is', 'the', 'best', 'way', 'i', 'know', 'to', 'avoid', 'the', 'trap', 'thinking', 'you', 'have', 'something', 'to', 'lose', 'you', 'are', 'already', 'naked', 'there', 'is', 'no', 'reason', 'not', 'to', 'follow', 'your', 'heart”', 'i', 'have', 'been', 'mediating', 'on', 'death', 'a', 'lot', 'lately', 'not', 'in', 'a', 'sad', 'and', 'gloomy', 'way', 'but', 'as', 'a', 'reminder', 'that', 'our', 'time', 'on', 'earth', 'is', 'limited', 'we', 'don’t', 'know', 'when', 'will', 'our', 'lights', 'go', 'out', 'more', 'important', 'how', 'will', 'we', 'be', 'remembered', 'death', 'calibrates', 'so', 'many', 'things', 'in', 'life', 'it', 'reminds', 'us', 'that', 'nothing', 'is', 'permanent', 'that', 'we', 'spend', 'a', 'great', 'deal', 'of', 'time', 'on', 'things', 'that', 'don’t', 'matter', 'after', 'jobs', 'learned', 'of', 'his', 'cancer', 'everything', 'changed', 'his', 'focus', 'shifted', 'the', 'first', 'thing', 'he', 'did', 'after', 'returning', 'to', 'apple', 'was', 'to', 'kill', 'all', 'unnecessary', 'projects', 'those', 'who', 'worked', 'with', 'him', 'recall', 'how', 'he', 'was', 'brutally', 'honest', 'a', 'jerk', 'sometimes', 'and', 'how', 'focussed', 'his', 'was', 'apple', 'products', 'are', 'not', 'only', 'known', 'for', 'their', 'sleek', 'designs', 'but', 'jobs', 'had', 'a', 'philosophy', 'which', 'drives', 'apple', 'to', 'this', 'day', 'of', 'simplicity', 'and', 'minimalism', 'when', 'cellphone', 'makers', 'were', 'battling', 'it', 'out', 'with', 'keyboard', 'iphone', 'came', 'out', 'with', 'one', 'button', 'minimalism', 'can', 'also', 'be', 'seen', 'in', 'how', 'jobs', 'communicated', 'on', 'emails', 'no', 'fluff', 'say', 'your', 'piece', 'and', 'keep', 'your', 'peace', 'nothing', 'more', 'steve', 'jobs', 'saves', 'his', 'call', 'to', 'attention', 'for', 'the', 'end', 'of', 'the', 'speech', '“stay', 'hungry', 'stay', 'foolish', 'i', 'have', 'always', 'wished', 'that', 'for', 'myself', 'and', 'now', 'as', 'you', 'graduate', 'to', 'begin', 'anew', 'i', 'wish', 'that', 'for', 'you', 'stay', 'hungry', 'stay', 'foolish”']\n"
     ]
    }
   ],
   "source": [
    "print(words)"
   ]
  },
  {
   "cell_type": "markdown",
   "metadata": {},
   "source": [
    "<br/>\n",
    "<br/>\n",
    "\n",
    "## Declaring stop words\n",
    "#### (The words which have no impact on emotion)"
   ]
  },
  {
   "cell_type": "code",
   "execution_count": 93,
   "metadata": {},
   "outputs": [],
   "source": [
    "stop_words = [\"i\", \"me\", \"my\", \"myself\", \"we\", \"our\", \"ours\", \"ourselves\", \"you\", \"your\", \"yours\", \"yourself\",\n",
    "              \"yourselves\", \"he\", \"him\", \"his\", \"himself\", \"she\", \"her\", \"hers\", \"herself\", \"it\", \"its\", \"itself\",\n",
    "              \"they\", \"them\", \"their\", \"theirs\", \"themselves\", \"what\", \"which\", \"who\", \"whom\", \"this\", \"that\", \"these\",\n",
    "              \"those\", \"am\", \"is\", \"are\", \"was\", \"were\", \"be\", \"been\", \"being\", \"have\", \"has\", \"had\", \"having\", \"do\",\n",
    "              \"does\", \"did\", \"doing\", \"a\", \"an\", \"the\", \"and\", \"but\", \"if\", \"or\", \"because\", \"as\", \"until\", \"while\",\n",
    "              \"of\", \"at\", \"by\", \"for\", \"with\", \"about\", \"against\", \"between\", \"into\", \"through\", \"during\", \"before\",\n",
    "              \"after\", \"above\", \"below\", \"to\", \"from\", \"up\", \"down\", \"in\", \"out\", \"on\", \"off\", \"over\", \"under\", \"again\",\n",
    "              \"further\", \"then\", \"once\", \"here\", \"there\", \"when\", \"where\", \"why\", \"how\", \"all\", \"any\", \"both\", \"each\",\n",
    "              \"few\", \"more\", \"most\", \"other\", \"some\", \"such\", \"no\", \"nor\", \"not\", \"only\", \"own\", \"same\", \"so\", \"than\",\n",
    "              \"too\", \"very\", \"s\", \"t\", \"can\", \"will\", \"just\", \"don\", \"should\", \"now\"]"
   ]
  },
  {
   "cell_type": "markdown",
   "metadata": {},
   "source": [
    "<br/>\n",
    "<br/>\n",
    "\n",
    "## Eliminate the words from our text which are stop words"
   ]
  },
  {
   "cell_type": "code",
   "execution_count": 94,
   "metadata": {},
   "outputs": [],
   "source": [
    "final_words = []\n",
    "for i in words:\n",
    "    if i not in stop_words:\n",
    "        final_words.append(i)"
   ]
  },
  {
   "cell_type": "markdown",
   "metadata": {},
   "source": [
    "<br/>\n",
    "<br/>\n",
    "\n",
    "## Creating a list of words which are both in our text and emotion list"
   ]
  },
  {
   "cell_type": "code",
   "execution_count": 96,
   "metadata": {},
   "outputs": [
    {
     "name": "stdout",
     "output_type": "stream",
     "text": [
      "[' focused', ' sad', ' happy', ' attached', ' sad', ' entitled', ' happy', ' attracted', ' attached', ' entitled']\n"
     ]
    }
   ],
   "source": [
    "emotion_list = []\n",
    "with open('C:/Users/Mehedi Hassan Galib/Desktop/Python/datas/emotion.txt','r') as file:\n",
    "    for line in file:\n",
    "        clear_line = line.replace('\\n','').replace(',','').replace(\"'\",'').strip()\n",
    "        word, emotion = clear_line.split(':')\n",
    "        \n",
    "        if word in final_words:\n",
    "            emotion_list.append(emotion)\n",
    "            \n",
    "print(emotion_list)"
   ]
  },
  {
   "cell_type": "markdown",
   "metadata": {},
   "source": [
    "<br/>\n",
    "<br/>\n",
    "\n",
    "## Count the words"
   ]
  },
  {
   "cell_type": "code",
   "execution_count": 97,
   "metadata": {
    "scrolled": true
   },
   "outputs": [
    {
     "data": {
      "text/plain": [
       "Counter({' focused': 1,\n",
       "         ' sad': 2,\n",
       "         ' happy': 2,\n",
       "         ' attached': 2,\n",
       "         ' entitled': 2,\n",
       "         ' attracted': 1})"
      ]
     },
     "execution_count": 97,
     "metadata": {},
     "output_type": "execute_result"
    }
   ],
   "source": [
    "count = Counter(emotion_list)\n",
    "count"
   ]
  },
  {
   "cell_type": "markdown",
   "metadata": {},
   "source": [
    "<br/>\n",
    "<br/>\n",
    "\n",
    "## Plot a graph of our analysis"
   ]
  },
  {
   "cell_type": "code",
   "execution_count": 99,
   "metadata": {},
   "outputs": [
    {
     "data": {
      "image/png": "[encoded data removed]",
      "text/plain": [
       "<Figure size 432x288 with 1 Axes>"
      ]
     },
     "metadata": {
      "needs_background": "light"
     },
     "output_type": "display_data"
    }
   ],
   "source": [
    "fig, ax1 = plt.subplots()\n",
    "ax1.bar(count.keys(), count.values())\n",
    "fig.autofmt_xdate()\n",
    "plt.show()"
   ]
  }
 ],
 "metadata": {
  "kernelspec": {
   "display_name": "Python 3",
   "language": "python",
   "name": "python3"
  },
  "language_info": {
   "codemirror_mode": {
    "name": "ipython",
    "version": 3
   },
   "file_extension": ".py",
   "mimetype": "text/x-python",
   "name": "python",
   "nbconvert_exporter": "python",
   "pygments_lexer": "ipython3",
   "version": "3.8.3"
  }
 },
 "nbformat": 4,
 "nbformat_minor": 4
}
