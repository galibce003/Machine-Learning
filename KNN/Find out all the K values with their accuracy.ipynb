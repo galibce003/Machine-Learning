{
 "cells": [
  {
   "cell_type": "markdown",
   "metadata": {},
   "source": [
    "# Find out all the K values with their accuracy\n",
    "### Author : MD. Mehedi Hassan Galib\n",
    "### Date : 06 August, 2020\n",
    "<br/>\n",
    "<br/>\n",
    "<br/>"
   ]
  },
  {
   "cell_type": "markdown",
   "metadata": {},
   "source": [
    "## Loading libraries"
   ]
  },
  {
   "cell_type": "code",
   "execution_count": 1,
   "metadata": {},
   "outputs": [],
   "source": [
    "import pandas as pd\n",
    "from sklearn.model_selection import train_test_split\n",
    "from sklearn.neighbors import KNeighborsClassifier\n",
    "from sklearn.metrics import accuracy_score\n",
    "import seaborn as sns"
   ]
  },
  {
   "cell_type": "markdown",
   "metadata": {},
   "source": [
    "<br/>\n",
    "<br/>\n",
    "\n",
    "## Loading dataset"
   ]
  },
  {
   "cell_type": "code",
   "execution_count": 2,
   "metadata": {},
   "outputs": [],
   "source": [
    "df = pd.read_csv('C:/Users/Mehedi Hassan Galib/Desktop/Python/datas/iris.csv')"
   ]
  },
  {
   "cell_type": "code",
   "execution_count": 3,
   "metadata": {},
   "outputs": [
    {
     "data": {
      "text/html": [
       "<div>\n",
       "<style scoped>\n",
       "    .dataframe tbody tr th:only-of-type {\n",
       "        vertical-align: middle;\n",
       "    }\n",
       "\n",
       "    .dataframe tbody tr th {\n",
       "        vertical-align: top;\n",
       "    }\n",
       "\n",
       "    .dataframe thead th {\n",
       "        text-align: right;\n",
       "    }\n",
       "</style>\n",
       "<table border=\"1\" class=\"dataframe\">\n",
       "  <thead>\n",
       "    <tr style=\"text-align: right;\">\n",
       "      <th></th>\n",
       "      <th>Id</th>\n",
       "      <th>sepal_length</th>\n",
       "      <th>sepal_width</th>\n",
       "      <th>petal_length</th>\n",
       "      <th>petal_width</th>\n",
       "      <th>species</th>\n",
       "    </tr>\n",
       "  </thead>\n",
       "  <tbody>\n",
       "    <tr>\n",
       "      <th>0</th>\n",
       "      <td>1</td>\n",
       "      <td>5.1</td>\n",
       "      <td>3.5</td>\n",
       "      <td>1.4</td>\n",
       "      <td>0.2</td>\n",
       "      <td>Iris-setosa</td>\n",
       "    </tr>\n",
       "    <tr>\n",
       "      <th>1</th>\n",
       "      <td>2</td>\n",
       "      <td>4.9</td>\n",
       "      <td>3.0</td>\n",
       "      <td>1.4</td>\n",
       "      <td>0.2</td>\n",
       "      <td>Iris-setosa</td>\n",
       "    </tr>\n",
       "    <tr>\n",
       "      <th>2</th>\n",
       "      <td>3</td>\n",
       "      <td>4.7</td>\n",
       "      <td>3.2</td>\n",
       "      <td>1.3</td>\n",
       "      <td>0.2</td>\n",
       "      <td>Iris-setosa</td>\n",
       "    </tr>\n",
       "    <tr>\n",
       "      <th>3</th>\n",
       "      <td>4</td>\n",
       "      <td>4.6</td>\n",
       "      <td>3.1</td>\n",
       "      <td>1.5</td>\n",
       "      <td>0.2</td>\n",
       "      <td>Iris-setosa</td>\n",
       "    </tr>\n",
       "    <tr>\n",
       "      <th>4</th>\n",
       "      <td>5</td>\n",
       "      <td>5.0</td>\n",
       "      <td>3.6</td>\n",
       "      <td>1.4</td>\n",
       "      <td>0.2</td>\n",
       "      <td>Iris-setosa</td>\n",
       "    </tr>\n",
       "  </tbody>\n",
       "</table>\n",
       "</div>"
      ],
      "text/plain": [
       "   Id  sepal_length  sepal_width  petal_length  petal_width      species\n",
       "0   1           5.1          3.5           1.4          0.2  Iris-setosa\n",
       "1   2           4.9          3.0           1.4          0.2  Iris-setosa\n",
       "2   3           4.7          3.2           1.3          0.2  Iris-setosa\n",
       "3   4           4.6          3.1           1.5          0.2  Iris-setosa\n",
       "4   5           5.0          3.6           1.4          0.2  Iris-setosa"
      ]
     },
     "execution_count": 3,
     "metadata": {},
     "output_type": "execute_result"
    }
   ],
   "source": [
    "df.head()"
   ]
  },
  {
   "cell_type": "markdown",
   "metadata": {},
   "source": [
    "<br/>\n",
    "<br/>\n",
    "\n",
    "## Splitting X and y variable"
   ]
  },
  {
   "cell_type": "code",
   "execution_count": 5,
   "metadata": {},
   "outputs": [],
   "source": [
    "X = pd.DataFrame(df[['sepal_length', 'sepal_width', 'petal_length', 'petal_width']])\n",
    "y = df['species']"
   ]
  },
  {
   "cell_type": "markdown",
   "metadata": {},
   "source": [
    "<br/>\n",
    "<br/>\n",
    "\n",
    "## Splitting train and test"
   ]
  },
  {
   "cell_type": "code",
   "execution_count": 14,
   "metadata": {},
   "outputs": [],
   "source": [
    "X_train, X_test, y_train, y_test = train_test_split(X, y , test_size = 0.2, random_state = 42)"
   ]
  },
  {
   "cell_type": "code",
   "execution_count": null,
   "metadata": {},
   "outputs": [],
   "source": []
  },
  {
   "cell_type": "code",
   "execution_count": 31,
   "metadata": {},
   "outputs": [],
   "source": [
    "train_length = len(X_train)\n",
    "k_acc_score = []"
   ]
  },
  {
   "cell_type": "code",
   "execution_count": 32,
   "metadata": {},
   "outputs": [
    {
     "name": "stdout",
     "output_type": "stream",
     "text": [
      "['k(1) = 1.0', 'k(3) = 1.0', 'k(5) = 1.0', 'k(7) = 0.9666666666666667', 'k(9) = 1.0', 'k(11) = 1.0', 'k(13) = 1.0', 'k(15) = 1.0', 'k(17) = 1.0', 'k(19) = 1.0', 'k(21) = 1.0', 'k(23) = 1.0', 'k(25) = 1.0', 'k(27) = 1.0', 'k(29) = 1.0', 'k(31) = 1.0', 'k(33) = 1.0', 'k(35) = 1.0', 'k(37) = 1.0', 'k(39) = 1.0', 'k(41) = 1.0', 'k(43) = 1.0', 'k(45) = 1.0', 'k(47) = 0.9666666666666667', 'k(49) = 0.9666666666666667', 'k(51) = 0.9666666666666667', 'k(53) = 0.9666666666666667', 'k(55) = 0.9666666666666667', 'k(57) = 0.9666666666666667', 'k(59) = 0.9666666666666667', 'k(61) = 0.9666666666666667', 'k(63) = 0.9666666666666667', 'k(65) = 0.9666666666666667', 'k(67) = 0.9666666666666667', 'k(69) = 0.9666666666666667', 'k(71) = 0.9666666666666667', 'k(73) = 0.9666666666666667', 'k(75) = 0.9333333333333333', 'k(77) = 0.9666666666666667', 'k(79) = 0.6333333333333333', 'k(81) = 0.6333333333333333', 'k(83) = 0.6333333333333333', 'k(85) = 0.6333333333333333', 'k(87) = 0.6333333333333333', 'k(89) = 0.5666666666666667', 'k(91) = 0.5333333333333333', 'k(93) = 0.3', 'k(95) = 0.3', 'k(97) = 0.3', 'k(99) = 0.3', 'k(101) = 0.3', 'k(103) = 0.3', 'k(105) = 0.3', 'k(107) = 0.3', 'k(109) = 0.3', 'k(111) = 0.3', 'k(113) = 0.3', 'k(115) = 0.3', 'k(117) = 0.3', 'k(119) = 0.3']\n"
     ]
    }
   ],
   "source": [
    "for k in range(1, train_length, 2):\n",
    "    cf = KNeighborsClassifier(n_neighbors = k, n_jobs = -1)\n",
    "    model = cf.fit(X_train, y_train)\n",
    "    y_pred = cf.predict(X_test)\n",
    "    k_acc_score.append('k({}) = {}'.format(k, accuracy_score(y_test, y_pred)))\n",
    "    \n",
    "print(k_acc_score)"
   ]
  }
 ],
 "metadata": {
  "kernelspec": {
   "display_name": "Python 3",
   "language": "python",
   "name": "python3"
  },
  "language_info": {
   "codemirror_mode": {
    "name": "ipython",
    "version": 3
   },
   "file_extension": ".py",
   "mimetype": "text/x-python",
   "name": "python",
   "nbconvert_exporter": "python",
   "pygments_lexer": "ipython3",
   "version": "3.8.3"
  }
 },
 "nbformat": 4,
 "nbformat_minor": 4
}
